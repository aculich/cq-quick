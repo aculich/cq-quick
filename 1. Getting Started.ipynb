{
 "cells": [
  {
   "cell_type": "markdown",
   "metadata": {},
   "source": [
    "First we'll need to download the 3GB database file from the public dropbox folder link.\n",
    "\n",
    "On your laptop you would manually download the file using your web browser and this link:\n",
    "https://www.dropbox.com/s/pxnho06h2y9lqyl/cq.sqlite?dl=0#\n",
    "\n",
    "However, for this tutorial we will only be using your laptop web browser to connect to a remote server environment that will download the files to remote storage connected to the remote server with a fast network-- it should take only 1-2 minutes on the remote server, whereas if you downloaded to your laptop in a cafe with a slow network it might take several hours!\n",
    "\n",
    "Instead just try running the notebook cells below!"
   ]
  },
  {
   "cell_type": "code",
   "execution_count": null,
   "metadata": {},
   "outputs": [],
   "source": [
    "!wget -O cq.sqlite \"https://www.dropbox.com/s/pxnho06h2y9lqyl/cq.sqlite?dl=0#\""
   ]
  },
  {
   "cell_type": "code",
   "execution_count": null,
   "metadata": {},
   "outputs": [],
   "source": [
    "!ls -lh"
   ]
  },
  {
   "cell_type": "code",
   "execution_count": null,
   "metadata": {},
   "outputs": [],
   "source": []
  }
 ],
 "metadata": {
  "kernelspec": {
   "display_name": "Python 3",
   "language": "python",
   "name": "python3"
  },
  "language_info": {
   "codemirror_mode": {
    "name": "ipython",
    "version": 3
   },
   "file_extension": ".py",
   "mimetype": "text/x-python",
   "name": "python",
   "nbconvert_exporter": "python",
   "pygments_lexer": "ipython3",
   "version": "3.6.4"
  }
 },
 "nbformat": 4,
 "nbformat_minor": 2
}
